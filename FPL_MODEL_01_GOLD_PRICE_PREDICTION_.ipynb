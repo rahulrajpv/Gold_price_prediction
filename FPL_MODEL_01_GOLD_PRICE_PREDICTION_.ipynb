{
  "cells": [
    {
      "cell_type": "markdown",
      "metadata": {
        "id": "KjfDGCJPT_FN"
      },
      "source": [
        "### **IMPORTING LIBRARIES**"
      ]
    },
    {
      "cell_type": "code",
      "execution_count": null,
      "metadata": {
        "id": "3qtGqlvYTZm1"
      },
      "outputs": [],
      "source": [
        "# importing packages\n",
        "import pandas as pd\n",
        "import matplotlib.pyplot as plt\n",
        "from sklearn.model_selection import train_test_split\n",
        "from sklearn.ensemble import RandomForestRegressor\n",
        "from sklearn import metrics"
      ]
    },
    {
      "cell_type": "code",
      "source": [
        "from google.colab import drive\n",
        "drive.mount('/content/drive')"
      ],
      "metadata": {
        "id": "1rOB0fZwZaFm",
        "colab": {
          "base_uri": "https://localhost:8080/"
        },
        "outputId": "77019edf-ee9c-476a-a5cf-4c212fbfff15"
      },
      "execution_count": null,
      "outputs": [
        {
          "output_type": "stream",
          "name": "stdout",
          "text": [
            "Mounted at /content/drive\n"
          ]
        }
      ]
    },
    {
      "cell_type": "markdown",
      "metadata": {
        "id": "Lx3w7REgUET4"
      },
      "source": [
        "### **IMPORTING DATA**"
      ]
    },
    {
      "cell_type": "code",
      "execution_count": null,
      "metadata": {
        "id": "p-ab7BPaT-cy"
      },
      "outputs": [],
      "source": [
        "data = pd.read_csv(\"/content/drive/MyDrive/MODEL/GOLD PRICE PREDICTION/DATA/data.csv\")"
      ]
    },
    {
      "cell_type": "code",
      "source": [
        "df = pd.DataFrame(data)"
      ],
      "metadata": {
        "id": "Lhq98W4PXcrX"
      },
      "execution_count": null,
      "outputs": []
    },
    {
      "cell_type": "code",
      "source": [
        "data"
      ],
      "metadata": {
        "id": "YRu6gCFfU75i",
        "colab": {
          "base_uri": "https://localhost:8080/",
          "height": 423
        },
        "outputId": "951fb2e3-3625-4766-9d11-6224f4b55006"
      },
      "execution_count": null,
      "outputs": [
        {
          "output_type": "execute_result",
          "data": {
            "text/plain": [
              "     week no       price\n",
              "0          1    1,852.80\n",
              "1          2    2,010.40\n",
              "2          3    1,974.90\n",
              "3          4    1,960.90\n",
              "4          5    2,119.40\n",
              "..       ...         ...\n",
              "513      514  133,235.10\n",
              "514      515  135,587.90\n",
              "515      516  134,864.50\n",
              "516      517  135,230.70\n",
              "517      518  139,210.20\n",
              "\n",
              "[518 rows x 2 columns]"
            ],
            "text/html": [
              "\n",
              "  <div id=\"df-8b384902-9323-432b-a90f-ff3e4bd23015\">\n",
              "    <div class=\"colab-df-container\">\n",
              "      <div>\n",
              "<style scoped>\n",
              "    .dataframe tbody tr th:only-of-type {\n",
              "        vertical-align: middle;\n",
              "    }\n",
              "\n",
              "    .dataframe tbody tr th {\n",
              "        vertical-align: top;\n",
              "    }\n",
              "\n",
              "    .dataframe thead th {\n",
              "        text-align: right;\n",
              "    }\n",
              "</style>\n",
              "<table border=\"1\" class=\"dataframe\">\n",
              "  <thead>\n",
              "    <tr style=\"text-align: right;\">\n",
              "      <th></th>\n",
              "      <th>week no</th>\n",
              "      <th>price</th>\n",
              "    </tr>\n",
              "  </thead>\n",
              "  <tbody>\n",
              "    <tr>\n",
              "      <th>0</th>\n",
              "      <td>1</td>\n",
              "      <td>1,852.80</td>\n",
              "    </tr>\n",
              "    <tr>\n",
              "      <th>1</th>\n",
              "      <td>2</td>\n",
              "      <td>2,010.40</td>\n",
              "    </tr>\n",
              "    <tr>\n",
              "      <th>2</th>\n",
              "      <td>3</td>\n",
              "      <td>1,974.90</td>\n",
              "    </tr>\n",
              "    <tr>\n",
              "      <th>3</th>\n",
              "      <td>4</td>\n",
              "      <td>1,960.90</td>\n",
              "    </tr>\n",
              "    <tr>\n",
              "      <th>4</th>\n",
              "      <td>5</td>\n",
              "      <td>2,119.40</td>\n",
              "    </tr>\n",
              "    <tr>\n",
              "      <th>...</th>\n",
              "      <td>...</td>\n",
              "      <td>...</td>\n",
              "    </tr>\n",
              "    <tr>\n",
              "      <th>513</th>\n",
              "      <td>514</td>\n",
              "      <td>133,235.10</td>\n",
              "    </tr>\n",
              "    <tr>\n",
              "      <th>514</th>\n",
              "      <td>515</td>\n",
              "      <td>135,587.90</td>\n",
              "    </tr>\n",
              "    <tr>\n",
              "      <th>515</th>\n",
              "      <td>516</td>\n",
              "      <td>134,864.50</td>\n",
              "    </tr>\n",
              "    <tr>\n",
              "      <th>516</th>\n",
              "      <td>517</td>\n",
              "      <td>135,230.70</td>\n",
              "    </tr>\n",
              "    <tr>\n",
              "      <th>517</th>\n",
              "      <td>518</td>\n",
              "      <td>139,210.20</td>\n",
              "    </tr>\n",
              "  </tbody>\n",
              "</table>\n",
              "<p>518 rows × 2 columns</p>\n",
              "</div>\n",
              "      <button class=\"colab-df-convert\" onclick=\"convertToInteractive('df-8b384902-9323-432b-a90f-ff3e4bd23015')\"\n",
              "              title=\"Convert this dataframe to an interactive table.\"\n",
              "              style=\"display:none;\">\n",
              "        \n",
              "  <svg xmlns=\"http://www.w3.org/2000/svg\" height=\"24px\"viewBox=\"0 0 24 24\"\n",
              "       width=\"24px\">\n",
              "    <path d=\"M0 0h24v24H0V0z\" fill=\"none\"/>\n",
              "    <path d=\"M18.56 5.44l.94 2.06.94-2.06 2.06-.94-2.06-.94-.94-2.06-.94 2.06-2.06.94zm-11 1L8.5 8.5l.94-2.06 2.06-.94-2.06-.94L8.5 2.5l-.94 2.06-2.06.94zm10 10l.94 2.06.94-2.06 2.06-.94-2.06-.94-.94-2.06-.94 2.06-2.06.94z\"/><path d=\"M17.41 7.96l-1.37-1.37c-.4-.4-.92-.59-1.43-.59-.52 0-1.04.2-1.43.59L10.3 9.45l-7.72 7.72c-.78.78-.78 2.05 0 2.83L4 21.41c.39.39.9.59 1.41.59.51 0 1.02-.2 1.41-.59l7.78-7.78 2.81-2.81c.8-.78.8-2.07 0-2.86zM5.41 20L4 18.59l7.72-7.72 1.47 1.35L5.41 20z\"/>\n",
              "  </svg>\n",
              "      </button>\n",
              "      \n",
              "  <style>\n",
              "    .colab-df-container {\n",
              "      display:flex;\n",
              "      flex-wrap:wrap;\n",
              "      gap: 12px;\n",
              "    }\n",
              "\n",
              "    .colab-df-convert {\n",
              "      background-color: #E8F0FE;\n",
              "      border: none;\n",
              "      border-radius: 50%;\n",
              "      cursor: pointer;\n",
              "      display: none;\n",
              "      fill: #1967D2;\n",
              "      height: 32px;\n",
              "      padding: 0 0 0 0;\n",
              "      width: 32px;\n",
              "    }\n",
              "\n",
              "    .colab-df-convert:hover {\n",
              "      background-color: #E2EBFA;\n",
              "      box-shadow: 0px 1px 2px rgba(60, 64, 67, 0.3), 0px 1px 3px 1px rgba(60, 64, 67, 0.15);\n",
              "      fill: #174EA6;\n",
              "    }\n",
              "\n",
              "    [theme=dark] .colab-df-convert {\n",
              "      background-color: #3B4455;\n",
              "      fill: #D2E3FC;\n",
              "    }\n",
              "\n",
              "    [theme=dark] .colab-df-convert:hover {\n",
              "      background-color: #434B5C;\n",
              "      box-shadow: 0px 1px 3px 1px rgba(0, 0, 0, 0.15);\n",
              "      filter: drop-shadow(0px 1px 2px rgba(0, 0, 0, 0.3));\n",
              "      fill: #FFFFFF;\n",
              "    }\n",
              "  </style>\n",
              "\n",
              "      <script>\n",
              "        const buttonEl =\n",
              "          document.querySelector('#df-8b384902-9323-432b-a90f-ff3e4bd23015 button.colab-df-convert');\n",
              "        buttonEl.style.display =\n",
              "          google.colab.kernel.accessAllowed ? 'block' : 'none';\n",
              "\n",
              "        async function convertToInteractive(key) {\n",
              "          const element = document.querySelector('#df-8b384902-9323-432b-a90f-ff3e4bd23015');\n",
              "          const dataTable =\n",
              "            await google.colab.kernel.invokeFunction('convertToInteractive',\n",
              "                                                     [key], {});\n",
              "          if (!dataTable) return;\n",
              "\n",
              "          const docLinkHtml = 'Like what you see? Visit the ' +\n",
              "            '<a target=\"_blank\" href=https://colab.research.google.com/notebooks/data_table.ipynb>data table notebook</a>'\n",
              "            + ' to learn more about interactive tables.';\n",
              "          element.innerHTML = '';\n",
              "          dataTable['output_type'] = 'display_data';\n",
              "          await google.colab.output.renderOutput(dataTable, element);\n",
              "          const docLink = document.createElement('div');\n",
              "          docLink.innerHTML = docLinkHtml;\n",
              "          element.appendChild(docLink);\n",
              "        }\n",
              "      </script>\n",
              "    </div>\n",
              "  </div>\n",
              "  "
            ]
          },
          "metadata": {},
          "execution_count": 5
        }
      ]
    },
    {
      "cell_type": "markdown",
      "source": [
        "### **DATA**"
      ],
      "metadata": {
        "id": "-U-hHubmU1nF"
      }
    },
    {
      "cell_type": "code",
      "source": [
        "df.head()"
      ],
      "metadata": {
        "id": "HJD0NxZWgmCO",
        "colab": {
          "base_uri": "https://localhost:8080/",
          "height": 206
        },
        "outputId": "4dd15ee5-60a4-45a2-e4cd-15e9491ea9e6"
      },
      "execution_count": null,
      "outputs": [
        {
          "output_type": "execute_result",
          "data": {
            "text/plain": [
              "   week no     price\n",
              "0        1  1,852.80\n",
              "1        2  2,010.40\n",
              "2        3  1,974.90\n",
              "3        4  1,960.90\n",
              "4        5  2,119.40"
            ],
            "text/html": [
              "\n",
              "  <div id=\"df-2acb2490-17a4-4801-afb0-5f5e8dc59051\">\n",
              "    <div class=\"colab-df-container\">\n",
              "      <div>\n",
              "<style scoped>\n",
              "    .dataframe tbody tr th:only-of-type {\n",
              "        vertical-align: middle;\n",
              "    }\n",
              "\n",
              "    .dataframe tbody tr th {\n",
              "        vertical-align: top;\n",
              "    }\n",
              "\n",
              "    .dataframe thead th {\n",
              "        text-align: right;\n",
              "    }\n",
              "</style>\n",
              "<table border=\"1\" class=\"dataframe\">\n",
              "  <thead>\n",
              "    <tr style=\"text-align: right;\">\n",
              "      <th></th>\n",
              "      <th>week no</th>\n",
              "      <th>price</th>\n",
              "    </tr>\n",
              "  </thead>\n",
              "  <tbody>\n",
              "    <tr>\n",
              "      <th>0</th>\n",
              "      <td>1</td>\n",
              "      <td>1,852.80</td>\n",
              "    </tr>\n",
              "    <tr>\n",
              "      <th>1</th>\n",
              "      <td>2</td>\n",
              "      <td>2,010.40</td>\n",
              "    </tr>\n",
              "    <tr>\n",
              "      <th>2</th>\n",
              "      <td>3</td>\n",
              "      <td>1,974.90</td>\n",
              "    </tr>\n",
              "    <tr>\n",
              "      <th>3</th>\n",
              "      <td>4</td>\n",
              "      <td>1,960.90</td>\n",
              "    </tr>\n",
              "    <tr>\n",
              "      <th>4</th>\n",
              "      <td>5</td>\n",
              "      <td>2,119.40</td>\n",
              "    </tr>\n",
              "  </tbody>\n",
              "</table>\n",
              "</div>\n",
              "      <button class=\"colab-df-convert\" onclick=\"convertToInteractive('df-2acb2490-17a4-4801-afb0-5f5e8dc59051')\"\n",
              "              title=\"Convert this dataframe to an interactive table.\"\n",
              "              style=\"display:none;\">\n",
              "        \n",
              "  <svg xmlns=\"http://www.w3.org/2000/svg\" height=\"24px\"viewBox=\"0 0 24 24\"\n",
              "       width=\"24px\">\n",
              "    <path d=\"M0 0h24v24H0V0z\" fill=\"none\"/>\n",
              "    <path d=\"M18.56 5.44l.94 2.06.94-2.06 2.06-.94-2.06-.94-.94-2.06-.94 2.06-2.06.94zm-11 1L8.5 8.5l.94-2.06 2.06-.94-2.06-.94L8.5 2.5l-.94 2.06-2.06.94zm10 10l.94 2.06.94-2.06 2.06-.94-2.06-.94-.94-2.06-.94 2.06-2.06.94z\"/><path d=\"M17.41 7.96l-1.37-1.37c-.4-.4-.92-.59-1.43-.59-.52 0-1.04.2-1.43.59L10.3 9.45l-7.72 7.72c-.78.78-.78 2.05 0 2.83L4 21.41c.39.39.9.59 1.41.59.51 0 1.02-.2 1.41-.59l7.78-7.78 2.81-2.81c.8-.78.8-2.07 0-2.86zM5.41 20L4 18.59l7.72-7.72 1.47 1.35L5.41 20z\"/>\n",
              "  </svg>\n",
              "      </button>\n",
              "      \n",
              "  <style>\n",
              "    .colab-df-container {\n",
              "      display:flex;\n",
              "      flex-wrap:wrap;\n",
              "      gap: 12px;\n",
              "    }\n",
              "\n",
              "    .colab-df-convert {\n",
              "      background-color: #E8F0FE;\n",
              "      border: none;\n",
              "      border-radius: 50%;\n",
              "      cursor: pointer;\n",
              "      display: none;\n",
              "      fill: #1967D2;\n",
              "      height: 32px;\n",
              "      padding: 0 0 0 0;\n",
              "      width: 32px;\n",
              "    }\n",
              "\n",
              "    .colab-df-convert:hover {\n",
              "      background-color: #E2EBFA;\n",
              "      box-shadow: 0px 1px 2px rgba(60, 64, 67, 0.3), 0px 1px 3px 1px rgba(60, 64, 67, 0.15);\n",
              "      fill: #174EA6;\n",
              "    }\n",
              "\n",
              "    [theme=dark] .colab-df-convert {\n",
              "      background-color: #3B4455;\n",
              "      fill: #D2E3FC;\n",
              "    }\n",
              "\n",
              "    [theme=dark] .colab-df-convert:hover {\n",
              "      background-color: #434B5C;\n",
              "      box-shadow: 0px 1px 3px 1px rgba(0, 0, 0, 0.15);\n",
              "      filter: drop-shadow(0px 1px 2px rgba(0, 0, 0, 0.3));\n",
              "      fill: #FFFFFF;\n",
              "    }\n",
              "  </style>\n",
              "\n",
              "      <script>\n",
              "        const buttonEl =\n",
              "          document.querySelector('#df-2acb2490-17a4-4801-afb0-5f5e8dc59051 button.colab-df-convert');\n",
              "        buttonEl.style.display =\n",
              "          google.colab.kernel.accessAllowed ? 'block' : 'none';\n",
              "\n",
              "        async function convertToInteractive(key) {\n",
              "          const element = document.querySelector('#df-2acb2490-17a4-4801-afb0-5f5e8dc59051');\n",
              "          const dataTable =\n",
              "            await google.colab.kernel.invokeFunction('convertToInteractive',\n",
              "                                                     [key], {});\n",
              "          if (!dataTable) return;\n",
              "\n",
              "          const docLinkHtml = 'Like what you see? Visit the ' +\n",
              "            '<a target=\"_blank\" href=https://colab.research.google.com/notebooks/data_table.ipynb>data table notebook</a>'\n",
              "            + ' to learn more about interactive tables.';\n",
              "          element.innerHTML = '';\n",
              "          dataTable['output_type'] = 'display_data';\n",
              "          await google.colab.output.renderOutput(dataTable, element);\n",
              "          const docLink = document.createElement('div');\n",
              "          docLink.innerHTML = docLinkHtml;\n",
              "          element.appendChild(docLink);\n",
              "        }\n",
              "      </script>\n",
              "    </div>\n",
              "  </div>\n",
              "  "
            ]
          },
          "metadata": {},
          "execution_count": 6
        }
      ]
    },
    {
      "cell_type": "code",
      "source": [
        "#Lets have a quick look of dataset\n",
        "df.info()"
      ],
      "metadata": {
        "id": "I_grdrHafFaR",
        "colab": {
          "base_uri": "https://localhost:8080/"
        },
        "outputId": "12ae345f-a2e4-4b9b-a3eb-240aae9e82ea"
      },
      "execution_count": null,
      "outputs": [
        {
          "output_type": "stream",
          "name": "stdout",
          "text": [
            "<class 'pandas.core.frame.DataFrame'>\n",
            "RangeIndex: 518 entries, 0 to 517\n",
            "Data columns (total 2 columns):\n",
            " #   Column   Non-Null Count  Dtype \n",
            "---  ------   --------------  ----- \n",
            " 0   week no  518 non-null    int64 \n",
            " 1   price    518 non-null    object\n",
            "dtypes: int64(1), object(1)\n",
            "memory usage: 8.2+ KB\n"
          ]
        }
      ]
    },
    {
      "cell_type": "code",
      "source": [
        "#Clearly we see there is no null value in the dataset\n",
        "#Lets study the Statistical Inferance of the dataset\n",
        "df.describe()"
      ],
      "metadata": {
        "id": "_KeYwAUXXnhS",
        "colab": {
          "base_uri": "https://localhost:8080/",
          "height": 300
        },
        "outputId": "66436be9-0c51-4d8c-fb14-3e7b0b147f60"
      },
      "execution_count": null,
      "outputs": [
        {
          "output_type": "execute_result",
          "data": {
            "text/plain": [
              "          week no\n",
              "count  518.000000\n",
              "mean   259.500000\n",
              "std    149.677988\n",
              "min      1.000000\n",
              "25%    130.250000\n",
              "50%    259.500000\n",
              "75%    388.750000\n",
              "max    518.000000"
            ],
            "text/html": [
              "\n",
              "  <div id=\"df-25860508-4bbe-4883-9a91-d9ca90cede6a\">\n",
              "    <div class=\"colab-df-container\">\n",
              "      <div>\n",
              "<style scoped>\n",
              "    .dataframe tbody tr th:only-of-type {\n",
              "        vertical-align: middle;\n",
              "    }\n",
              "\n",
              "    .dataframe tbody tr th {\n",
              "        vertical-align: top;\n",
              "    }\n",
              "\n",
              "    .dataframe thead th {\n",
              "        text-align: right;\n",
              "    }\n",
              "</style>\n",
              "<table border=\"1\" class=\"dataframe\">\n",
              "  <thead>\n",
              "    <tr style=\"text-align: right;\">\n",
              "      <th></th>\n",
              "      <th>week no</th>\n",
              "    </tr>\n",
              "  </thead>\n",
              "  <tbody>\n",
              "    <tr>\n",
              "      <th>count</th>\n",
              "      <td>518.000000</td>\n",
              "    </tr>\n",
              "    <tr>\n",
              "      <th>mean</th>\n",
              "      <td>259.500000</td>\n",
              "    </tr>\n",
              "    <tr>\n",
              "      <th>std</th>\n",
              "      <td>149.677988</td>\n",
              "    </tr>\n",
              "    <tr>\n",
              "      <th>min</th>\n",
              "      <td>1.000000</td>\n",
              "    </tr>\n",
              "    <tr>\n",
              "      <th>25%</th>\n",
              "      <td>130.250000</td>\n",
              "    </tr>\n",
              "    <tr>\n",
              "      <th>50%</th>\n",
              "      <td>259.500000</td>\n",
              "    </tr>\n",
              "    <tr>\n",
              "      <th>75%</th>\n",
              "      <td>388.750000</td>\n",
              "    </tr>\n",
              "    <tr>\n",
              "      <th>max</th>\n",
              "      <td>518.000000</td>\n",
              "    </tr>\n",
              "  </tbody>\n",
              "</table>\n",
              "</div>\n",
              "      <button class=\"colab-df-convert\" onclick=\"convertToInteractive('df-25860508-4bbe-4883-9a91-d9ca90cede6a')\"\n",
              "              title=\"Convert this dataframe to an interactive table.\"\n",
              "              style=\"display:none;\">\n",
              "        \n",
              "  <svg xmlns=\"http://www.w3.org/2000/svg\" height=\"24px\"viewBox=\"0 0 24 24\"\n",
              "       width=\"24px\">\n",
              "    <path d=\"M0 0h24v24H0V0z\" fill=\"none\"/>\n",
              "    <path d=\"M18.56 5.44l.94 2.06.94-2.06 2.06-.94-2.06-.94-.94-2.06-.94 2.06-2.06.94zm-11 1L8.5 8.5l.94-2.06 2.06-.94-2.06-.94L8.5 2.5l-.94 2.06-2.06.94zm10 10l.94 2.06.94-2.06 2.06-.94-2.06-.94-.94-2.06-.94 2.06-2.06.94z\"/><path d=\"M17.41 7.96l-1.37-1.37c-.4-.4-.92-.59-1.43-.59-.52 0-1.04.2-1.43.59L10.3 9.45l-7.72 7.72c-.78.78-.78 2.05 0 2.83L4 21.41c.39.39.9.59 1.41.59.51 0 1.02-.2 1.41-.59l7.78-7.78 2.81-2.81c.8-.78.8-2.07 0-2.86zM5.41 20L4 18.59l7.72-7.72 1.47 1.35L5.41 20z\"/>\n",
              "  </svg>\n",
              "      </button>\n",
              "      \n",
              "  <style>\n",
              "    .colab-df-container {\n",
              "      display:flex;\n",
              "      flex-wrap:wrap;\n",
              "      gap: 12px;\n",
              "    }\n",
              "\n",
              "    .colab-df-convert {\n",
              "      background-color: #E8F0FE;\n",
              "      border: none;\n",
              "      border-radius: 50%;\n",
              "      cursor: pointer;\n",
              "      display: none;\n",
              "      fill: #1967D2;\n",
              "      height: 32px;\n",
              "      padding: 0 0 0 0;\n",
              "      width: 32px;\n",
              "    }\n",
              "\n",
              "    .colab-df-convert:hover {\n",
              "      background-color: #E2EBFA;\n",
              "      box-shadow: 0px 1px 2px rgba(60, 64, 67, 0.3), 0px 1px 3px 1px rgba(60, 64, 67, 0.15);\n",
              "      fill: #174EA6;\n",
              "    }\n",
              "\n",
              "    [theme=dark] .colab-df-convert {\n",
              "      background-color: #3B4455;\n",
              "      fill: #D2E3FC;\n",
              "    }\n",
              "\n",
              "    [theme=dark] .colab-df-convert:hover {\n",
              "      background-color: #434B5C;\n",
              "      box-shadow: 0px 1px 3px 1px rgba(0, 0, 0, 0.15);\n",
              "      filter: drop-shadow(0px 1px 2px rgba(0, 0, 0, 0.3));\n",
              "      fill: #FFFFFF;\n",
              "    }\n",
              "  </style>\n",
              "\n",
              "      <script>\n",
              "        const buttonEl =\n",
              "          document.querySelector('#df-25860508-4bbe-4883-9a91-d9ca90cede6a button.colab-df-convert');\n",
              "        buttonEl.style.display =\n",
              "          google.colab.kernel.accessAllowed ? 'block' : 'none';\n",
              "\n",
              "        async function convertToInteractive(key) {\n",
              "          const element = document.querySelector('#df-25860508-4bbe-4883-9a91-d9ca90cede6a');\n",
              "          const dataTable =\n",
              "            await google.colab.kernel.invokeFunction('convertToInteractive',\n",
              "                                                     [key], {});\n",
              "          if (!dataTable) return;\n",
              "\n",
              "          const docLinkHtml = 'Like what you see? Visit the ' +\n",
              "            '<a target=\"_blank\" href=https://colab.research.google.com/notebooks/data_table.ipynb>data table notebook</a>'\n",
              "            + ' to learn more about interactive tables.';\n",
              "          element.innerHTML = '';\n",
              "          dataTable['output_type'] = 'display_data';\n",
              "          await google.colab.output.renderOutput(dataTable, element);\n",
              "          const docLink = document.createElement('div');\n",
              "          docLink.innerHTML = docLinkHtml;\n",
              "          element.appendChild(docLink);\n",
              "        }\n",
              "      </script>\n",
              "    </div>\n",
              "  </div>\n",
              "  "
            ]
          },
          "metadata": {},
          "execution_count": 8
        }
      ]
    },
    {
      "cell_type": "code",
      "source": [
        "df.isnull().sum()"
      ],
      "metadata": {
        "id": "vx_4Aukzgv3k",
        "colab": {
          "base_uri": "https://localhost:8080/"
        },
        "outputId": "cd98da88-1946-43d5-d18f-6523f2903d0c"
      },
      "execution_count": null,
      "outputs": [
        {
          "output_type": "execute_result",
          "data": {
            "text/plain": [
              "week no    0\n",
              "price      0\n",
              "dtype: int64"
            ]
          },
          "metadata": {},
          "execution_count": 9
        }
      ]
    },
    {
      "cell_type": "markdown",
      "source": [
        "### **DATA VISUALIZATION**"
      ],
      "metadata": {
        "id": "zrENEQN_VhFZ"
      }
    },
    {
      "cell_type": "code",
      "source": [
        "print(data.corr())"
      ],
      "metadata": {
        "id": "YmUK7tPK165t",
        "colab": {
          "base_uri": "https://localhost:8080/"
        },
        "outputId": "f289b024-62b2-4e65-b7b8-346e76935a13"
      },
      "execution_count": null,
      "outputs": [
        {
          "output_type": "stream",
          "name": "stdout",
          "text": [
            "         week no\n",
            "week no      1.0\n"
          ]
        }
      ]
    },
    {
      "cell_type": "code",
      "source": [
        "import seaborn as sb\n",
        "import matplotlib.pyplot as mp"
      ],
      "metadata": {
        "id": "VYhzPn5N2C_c"
      },
      "execution_count": null,
      "outputs": []
    },
    {
      "cell_type": "code",
      "source": [
        "# plotting correlation heatmap\n",
        "dataplot = sb.heatmap(data.corr(), cmap=\"YlGnBu\", annot=True)\n",
        "# displaying heatmap\n",
        "mp.show()"
      ],
      "metadata": {
        "id": "QDBMxA7Q1-U1",
        "colab": {
          "base_uri": "https://localhost:8080/",
          "height": 269
        },
        "outputId": "9fc11998-b524-483c-8695-5f9a2339f127"
      },
      "execution_count": null,
      "outputs": [
        {
          "output_type": "display_data",
          "data": {
            "text/plain": [
              "<Figure size 432x288 with 2 Axes>"
            ],
            "image/png": "[encoded data removed]"
          },
          "metadata": {
            "needs_background": "light"
          }
        }
      ]
    },
    {
      "cell_type": "code",
      "source": [
        "#Now see the correlation matrix and heatmap\n",
        "import matplotlib.pyplot as plt\n",
        "import seaborn as sns\n",
        "corr = df.corr()\n",
        "plt.figure(figsize = (6,5))\n",
        "plt.plot(df['price'])"
      ],
      "metadata": {
        "id": "tUDrwPc1SMUj",
        "colab": {
          "base_uri": "https://localhost:8080/",
          "height": 338
        },
        "outputId": "d3209ea9-ff6e-424b-ca03-bd70c40551b7"
      },
      "execution_count": null,
      "outputs": [
        {
          "output_type": "execute_result",
          "data": {
            "text/plain": [
              "[<matplotlib.lines.Line2D at 0x7f68e4584ad0>]"
            ]
          },
          "metadata": {},
          "execution_count": 13
        },
        {
          "output_type": "display_data",
          "data": {
            "text/plain": [
              "<Figure size 432x360 with 1 Axes>"
            ],
            "image/png": "[encoded data removed]"
          },
          "metadata": {
            "needs_background": "light"
          }
        }
      ]
    },
    {
      "cell_type": "markdown",
      "source": [
        "**Split the data into target values and feature values :**"
      ],
      "metadata": {
        "id": "YoK_Xl13g7ck"
      }
    },
    {
      "cell_type": "code",
      "source": [
        "df[\"price\"] = [float(str(i).replace(\",\", \"\")) for i in df[\"price\"]]"
      ],
      "metadata": {
        "id": "qNkAXIbonWIl"
      },
      "execution_count": null,
      "outputs": []
    },
    {
      "cell_type": "code",
      "source": [
        "X = df.drop(['week no'],axis=1)\n",
        "Y = df['price']"
      ],
      "metadata": {
        "id": "MccbCFDvcGbe"
      },
      "execution_count": null,
      "outputs": []
    },
    {
      "cell_type": "code",
      "source": [
        "X_train, X_test, Y_train, Y_test = train_test_split(X, Y, test_size = 0.3, random_state=2)"
      ],
      "metadata": {
        "id": "Ojz2ZnkphW8P"
      },
      "execution_count": null,
      "outputs": []
    },
    {
      "cell_type": "markdown",
      "source": [
        "# **Model Training: Random Forest Regressor :**"
      ],
      "metadata": {
        "id": "VIAAkm2-hfMH"
      }
    },
    {
      "cell_type": "code",
      "source": [
        "regressor = RandomForestRegressor(n_estimators=100)"
      ],
      "metadata": {
        "id": "3oa-Z9XVhcr5"
      },
      "execution_count": null,
      "outputs": []
    },
    {
      "cell_type": "code",
      "source": [
        "regressor.fit(X_train,Y_train)"
      ],
      "metadata": {
        "id": "ruisuiXXhjKv",
        "colab": {
          "base_uri": "https://localhost:8080/"
        },
        "outputId": "78d4e05b-da55-45fb-be85-63d6dbb1b90c"
      },
      "execution_count": null,
      "outputs": [
        {
          "output_type": "execute_result",
          "data": {
            "text/plain": [
              "RandomForestRegressor()"
            ]
          },
          "metadata": {},
          "execution_count": 18
        }
      ]
    },
    {
      "cell_type": "markdown",
      "source": [
        "## **Model Evaluation**"
      ],
      "metadata": {
        "id": "FOFKIgHwno3o"
      }
    },
    {
      "cell_type": "code",
      "source": [
        "test_data_prediction = regressor.predict(X_test)"
      ],
      "metadata": {
        "id": "cmjK3FxkiErH"
      },
      "execution_count": null,
      "outputs": []
    },
    {
      "cell_type": "code",
      "source": [
        "error_score = metrics.r2_score(Y_test, test_data_prediction)\n",
        "print(\"R squared error : \", error_score)"
      ],
      "metadata": {
        "id": "njDxADVQnuE6",
        "colab": {
          "base_uri": "https://localhost:8080/"
        },
        "outputId": "ab948601-2aaa-42fd-d6f3-0ee55080df81"
      },
      "execution_count": null,
      "outputs": [
        {
          "output_type": "stream",
          "name": "stdout",
          "text": [
            "R squared error :  0.9996776896425726\n"
          ]
        }
      ]
    },
    {
      "cell_type": "markdown",
      "source": [
        "## **Comparing the Actual Values and the Predicted Values**"
      ],
      "metadata": {
        "id": "DJZLhdW5nyTF"
      }
    },
    {
      "cell_type": "code",
      "source": [
        "Y_test = list(Y_test)"
      ],
      "metadata": {
        "id": "ljkU_USSn0Gc"
      },
      "execution_count": null,
      "outputs": []
    },
    {
      "cell_type": "code",
      "source": [
        "plt.plot(Y_test, color='blue', label = 'Actual Value')\n",
        "plt.plot(test_data_prediction, color='green', label='Predicted Value')\n",
        "plt.title('Actual Price vs Predicted Price')\n",
        "plt.xlabel('Number of values')\n",
        "plt.ylabel('GOLD Price')\n",
        "plt.legend()\n",
        "plt.show()"
      ],
      "metadata": {
        "id": "I3_IiS9In2Vi",
        "colab": {
          "base_uri": "https://localhost:8080/",
          "height": 295
        },
        "outputId": "d74fca3d-0a28-4953-a02a-868728216f0e"
      },
      "execution_count": null,
      "outputs": [
        {
          "output_type": "display_data",
          "data": {
            "text/plain": [
              "<Figure size 432x288 with 1 Axes>"
            ],
            "image/png": "[encoded data removed]"
          },
          "metadata": {
            "needs_background": "light"
          }
        }
      ]
    },
    {
      "cell_type": "markdown",
      "source": [
        "**How to use this model to predict daily moves?**"
      ],
      "metadata": {
        "id": "bTIjOck0o-tZ"
      }
    },
    {
      "cell_type": "code",
      "source": [
        "# import the regressor\n",
        "from sklearn.tree import DecisionTreeRegressor \n",
        "  \n",
        "# create a regressor object\n",
        "regressor = DecisionTreeRegressor(random_state = 0) \n",
        "  \n",
        "# fit the regressor with X and Y data\n",
        "regressor.fit(X, Y)"
      ],
      "metadata": {
        "id": "DpiEZtu_xNRM",
        "colab": {
          "base_uri": "https://localhost:8080/"
        },
        "outputId": "cf9af8c6-a9c2-470e-f107-404a9bcd2f15"
      },
      "execution_count": null,
      "outputs": [
        {
          "output_type": "execute_result",
          "data": {
            "text/plain": [
              "DecisionTreeRegressor(random_state=0)"
            ]
          },
          "metadata": {},
          "execution_count": 23
        }
      ]
    },
    {
      "cell_type": "code",
      "source": [
        "# predicting a new value\n",
        "\n",
        "# test the output by changing values, like 3750\n",
        "y_pred = regressor.predict([[550]])\n",
        "\n",
        "# print the predicted price\n",
        "print(\"Predicted price: % d\\n\"% y_pred)\n"
      ],
      "metadata": {
        "id": "Oxk9ryhAxSAo",
        "colab": {
          "base_uri": "https://localhost:8080/"
        },
        "outputId": "43ab3e40-a38f-4c22-fb96-9650f6ae3671"
      },
      "execution_count": null,
      "outputs": [
        {
          "output_type": "stream",
          "name": "stdout",
          "text": [
            "Predicted price:  1852\n",
            "\n"
          ]
        },
        {
          "output_type": "stream",
          "name": "stderr",
          "text": [
            "/usr/local/lib/python3.7/dist-packages/sklearn/base.py:451: UserWarning: X does not have valid feature names, but DecisionTreeRegressor was fitted with feature names\n",
            "  \"X does not have valid feature names, but\"\n"
          ]
        }
      ]
    },
    {
      "cell_type": "code",
      "source": [
        "import datetime as dt\n",
        "current_date = dt.datetime.now()"
      ],
      "metadata": {
        "id": "ZNzlxgxEo_tS"
      },
      "execution_count": null,
      "outputs": []
    },
    {
      "cell_type": "markdown",
      "source": [
        "## **LINEAR REGRESSION**"
      ],
      "metadata": {
        "id": "17gaEPzDyKBK"
      }
    },
    {
      "cell_type": "code",
      "source": [
        "import numpy as np\n",
        "from sklearn.linear_model import LinearRegression"
      ],
      "metadata": {
        "id": "4JwqWVZRyM9Q"
      },
      "execution_count": null,
      "outputs": []
    },
    {
      "cell_type": "code",
      "source": [
        "model = LinearRegression()"
      ],
      "metadata": {
        "id": "bmcfXxdeyS2w"
      },
      "execution_count": null,
      "outputs": []
    },
    {
      "cell_type": "code",
      "source": [
        "model.fit(X, Y)"
      ],
      "metadata": {
        "id": "TV9McUdHyVCk",
        "colab": {
          "base_uri": "https://localhost:8080/"
        },
        "outputId": "f101e484-8790-4598-f7d8-2d548c731ce9"
      },
      "execution_count": null,
      "outputs": [
        {
          "output_type": "execute_result",
          "data": {
            "text/plain": [
              "LinearRegression()"
            ]
          },
          "metadata": {},
          "execution_count": 28
        }
      ]
    },
    {
      "cell_type": "code",
      "source": [
        "model = LinearRegression().fit(X, Y)"
      ],
      "metadata": {
        "id": "motRIrrsyXvI"
      },
      "execution_count": null,
      "outputs": []
    },
    {
      "cell_type": "code",
      "source": [
        "r_sq = model.score(X, Y)\n",
        "print('coefficient of determination:', r_sq)"
      ],
      "metadata": {
        "id": "oHIZd27TybNj",
        "colab": {
          "base_uri": "https://localhost:8080/"
        },
        "outputId": "574aa134-b632-4e53-99d6-c7bd653b746f"
      },
      "execution_count": null,
      "outputs": [
        {
          "output_type": "stream",
          "name": "stdout",
          "text": [
            "coefficient of determination: 1.0\n"
          ]
        }
      ]
    },
    {
      "cell_type": "code",
      "source": [
        "print('intercept:', model.intercept_)"
      ],
      "metadata": {
        "id": "HFr-BDIWyj2X",
        "colab": {
          "base_uri": "https://localhost:8080/"
        },
        "outputId": "239dfc2f-28cf-4cc0-ce6f-9c432a04fbd5"
      },
      "execution_count": null,
      "outputs": [
        {
          "output_type": "stream",
          "name": "stdout",
          "text": [
            "intercept: 0.0\n"
          ]
        }
      ]
    },
    {
      "cell_type": "code",
      "source": [
        "print('slope:', model.coef_)"
      ],
      "metadata": {
        "id": "yVnMBVcIylFU",
        "colab": {
          "base_uri": "https://localhost:8080/"
        },
        "outputId": "b6430bd9-7ef6-47ae-8e3c-d37f10c8af83"
      },
      "execution_count": null,
      "outputs": [
        {
          "output_type": "stream",
          "name": "stdout",
          "text": [
            "slope: [1.]\n"
          ]
        }
      ]
    },
    {
      "cell_type": "code",
      "source": [
        "y_pred = model.predict(X)"
      ],
      "metadata": {
        "id": "zv47iWbAyvJN"
      },
      "execution_count": null,
      "outputs": []
    },
    {
      "cell_type": "code",
      "source": [
        "print('predicted response:', y_pred, sep='\\n')"
      ],
      "metadata": {
        "id": "fcqaEOjWyw1h",
        "colab": {
          "base_uri": "https://localhost:8080/"
        },
        "outputId": "7982f747-039c-4c44-821a-be30c1708254"
      },
      "execution_count": null,
      "outputs": [
        {
          "output_type": "stream",
          "name": "stdout",
          "text": [
            "predicted response:\n",
            "[  1852.8   2010.4   1974.9   1960.9   2119.4   2248.9   2309.7   2409.8\n",
            "   2865.    3204.    3183.5   3731.8   5358.    5286.7   4511.5   4164.4\n",
            "   4053.3   4711.1   5012.4   4867.    5211.1   5112.3   4833.7   4705.2\n",
            "   4430.    4110.2   4093.1   4107.8   4034.    3968.2   3632.1   3705.\n",
            "   4039.1   3998.6   3766.8   3749.3   3507.    3440.4   3064.7   3274.2\n",
            "   3107.    2970.    3224.8   3468.6   4223.6   4094.    4050.1   4296.4\n",
            "   4734.4   4880.2   4183.6   4309.    4365.    4153.3   4255.1   4230.6\n",
            "   4204.6   4021.9   3949.9   4063.4   3966.9   4129.8   4228.2   4116.2\n",
            "   4139.7   4173.9   3934.7   4003.5   4016.6   4070.5   4105.2   3908.7\n",
            "   3813.3   3869.6   3856.6   4005.6   3917.7   3910.    3800.5   3918.4\n",
            "   3894.    3902.6   3903.3   3871.6   4214.4   4175.8   4210.4   4199.6\n",
            "   4253.5   4294.2   4345.9   4702.3   5263.4   5431.1   5188.3   5107.2\n",
            "   5287.4   5213.6   5249.5   5576.8   5825.5   5759.7   5839.1   6003.6\n",
            "   5946.9   6027.9   6028.1   6263.6   6205.    5745.4   5730.3   5929.5\n",
            "   5971.2   6214.3   6145.9   6127.6   5955.    5945.8   6256.7   6273.\n",
            "   6095.1   5892.9   6010.9   6013.3   5993.6   5996.8   6097.1   6049.7\n",
            "   6019.8   6144.9   6637.    6901.5   6936.4   7062.9   6704.4   6467.5\n",
            "   6373.3   6119.    6299.5   6831.9   6940.7   6878.5   6895.4   6841.7\n",
            "   7032.1   6849.6   7003.6   7145.3   7318.    7699.4   9363.9   9195.7\n",
            "   8994.2   9251.2   9294.5   9315.3   9171.7   9185.5   9707.3   9751.6\n",
            "   9601.9   9684.5  10051.6   9712.6   9788.5   9776.5   9503.9   9655.\n",
            "   9502.1   9852.   10427.5  10723.1  11511.3  11684.   12303.7  11904.9\n",
            "  11171.9  11435.8  11724.6  12038.1  12135.5  11979.9  12051.7  11834.4\n",
            "  11965.   12093.2  12092.6  11931.7  12283.6  12227.1  12065.8  11904.5\n",
            "  11875.4  11817.6  12074.7  12278.7  12101.2  12166.9  12118.5  12110.8\n",
            "  12720.7  13245.3  13363.8  13534.6  14294.6  14788.7  13584.9  13425.7\n",
            "  13662.2  13450.1  13582.6  13791.   13670.9  13586.4  13495.4  13224.6\n",
            "  12735.5  12433.5  12615.8  12333.8  12310.7  12198.1  11578.4  11634.2\n",
            "  11757.6  11768.3  11389.3  11323.3  11340.2  11575.8  11692.8  12222.7\n",
            "  12081.6  12345.3  12449.4  12148.9  12285.   12525.9  12465.3  12413.6\n",
            "  12205.4  12209.1  12136.4  12079.2  11823.4  11273.4  11083.2  11153.5\n",
            "  11526.2  13499.4  12723.1  12307.4  12383.2  13076.2  12481.8  12205.7\n",
            "  12100.2  12766.6  12608.5  12537.3  12557.9  12511.2  12441.9  12690.7\n",
            "  12352.3  12181.4  12260.3  12175.4  12777.7  12699.   12608.9  12835.3\n",
            "  13501.6  13589.7  13254.2  13205.2  13596.5  14378.4  14325.4  14799.4\n",
            "  15400.2  15714.3  15270.2  15067.   15452.8  15303.8  15391.   15973.1\n",
            "  17094.4  17136.7  16221.2  15547.4  16744.2  16640.5  16221.3  16520.\n",
            "  17365.8  17195.6  17756.6  18538.2  18794.8  18312.7  18270.1  17697.8\n",
            "  17331.1  17842.5  18313.2  18543.6  18660.   19229.4  19796.1  19417.4\n",
            "  18523.   18481.5  18957.7  18760.7  18341.2  18757.9  18460.4  19085.3\n",
            "  20011.1  21049.6  21769.3  23298.   24324.   24565.6  24750.2  27413.1\n",
            "  30618.5  27435.6  29447.3  29436.7  27583.2  26628.   28147.2  28116.5\n",
            "  27961.2  29348.2  28785.   28611.5  27238.3  26735.6  26890.   27161.7\n",
            "  28735.7  29824.5  31812.3  31693.9  35020.6  36671.   39065.6  36432.1\n",
            "  37481.1  38110.9  40263.1  36050.1  37866.6  39183.3  37325.9  39753.9\n",
            "  41983.4  46533.   47388.4  44625.9  45105.7  45177.4  45262.5  45883.5\n",
            "  48224.3  48744.7  52490.1  52883.4  51342.6  50761.8  50672.4  51111.1\n",
            "  55372.2  57418.5  55867.6  56639.7  58462.6  59610.4  61638.   62781.7\n",
            "  61660.9  62371.6  64040.4  65436.9  67905.2  68549.9  69851.1  79635.9\n",
            "  84349.6  82053.6  88268.3  86615.9  84587.2  85728.   84334.4  85476.4\n",
            "  86363.4  89590.7  88374.5  90330.   95072.2  92757.8  94419.6  92222.1\n",
            "  90658.5  87618.3  86693.1  80775.6  77722.1  78302.7  76948.9  84743.9\n",
            "  86135.   81132.9  79891.   75805.8  77315.8  80958.3  81442.   78376.9\n",
            "  76425.3  76433.5  78752.5  78909.9  75404.8  75051.9  72587.2  75304.6\n",
            "  77801.2  76152.6  73637.5  75179.9  76494.1  75441.4  71923.8  72670.6\n",
            "  74480.3  75445.7  71858.4  71185.8  73942.7  81885.8  83482.8  82588.6\n",
            "  84298.9  85902.   89877.3  89730.   88533.3  84510.   83514.2  78132.7\n",
            "  81224.6  82740.7  81075.7  81675.7  80241.9  81223.   79679.7  82041.5\n",
            "  84755.7  83256.2  83181.1  81106.3  84741.3  85757.5  86188.7  87713.1\n",
            "  88017.   86888.1  85122.9  83631.9  86545.2  89455.2  87727.1  88444.9\n",
            "  91443.7  94026.4  90427.5  89297.2  89662.2  94352.5  97169.6 106574.5\n",
            " 107869.2 106207.2 105070.6 105029.  111260.  114199.6 118572.3 128214.6\n",
            " 129859.2 131213.9 138180.5 147021.3 141299.3 139641.6 138426.3 136712.5\n",
            " 136480.8 131616.7 125087.7 131364.2 135644.5 134929.8 134698.9 132338.\n",
            " 130782.5 133235.1 135587.9 134864.5 135230.7 139210.2]\n"
          ]
        }
      ]
    },
    {
      "cell_type": "code",
      "source": [
        "y_pred = model.intercept_ + model.coef_ * X"
      ],
      "metadata": {
        "id": "Hi2LPCGQy7G6"
      },
      "execution_count": null,
      "outputs": []
    },
    {
      "cell_type": "code",
      "source": [
        "print('predicted response:', y_pred, sep='\\n')"
      ],
      "metadata": {
        "id": "9o3zqHPvy8AS",
        "colab": {
          "base_uri": "https://localhost:8080/"
        },
        "outputId": "03f2c326-cf50-4f79-92e3-d841a5ccbf03"
      },
      "execution_count": null,
      "outputs": [
        {
          "output_type": "stream",
          "name": "stdout",
          "text": [
            "predicted response:\n",
            "        price\n",
            "0      1852.8\n",
            "1      2010.4\n",
            "2      1974.9\n",
            "3      1960.9\n",
            "4      2119.4\n",
            "..        ...\n",
            "513  133235.1\n",
            "514  135587.9\n",
            "515  134864.5\n",
            "516  135230.7\n",
            "517  139210.2\n",
            "\n",
            "[518 rows x 1 columns]\n"
          ]
        }
      ]
    },
    {
      "cell_type": "code",
      "source": [
        "dataframe = pd.DataFrame(y_pred)"
      ],
      "metadata": {
        "id": "Q5TcAeWbz1JX"
      },
      "execution_count": null,
      "outputs": []
    },
    {
      "cell_type": "code",
      "source": [
        "dataframe"
      ],
      "metadata": {
        "id": "SQ_tLYuAz_yE",
        "colab": {
          "base_uri": "https://localhost:8080/"
        },
        "outputId": "c2640fef-52f2-42de-b24f-1027d96afb86"
      },
      "execution_count": null,
      "outputs": [
        {
          "output_type": "execute_result",
          "data": {
            "text/plain": [
              "        price\n",
              "0      1852.8\n",
              "1      2010.4\n",
              "2      1974.9\n",
              "3      1960.9\n",
              "4      2119.4\n",
              "..        ...\n",
              "513  133235.1\n",
              "514  135587.9\n",
              "515  134864.5\n",
              "516  135230.7\n",
              "517  139210.2\n",
              "\n",
              "[518 rows x 1 columns]"
            ],
            "text/html": [
              "\n",
              "  <div id=\"df-9a4427e1-ada6-4295-bb25-5a429a30b8d5\">\n",
              "    <div class=\"colab-df-container\">\n",
              "      <div>\n",
              "<style scoped>\n",
              "    .dataframe tbody tr th:only-of-type {\n",
              "        vertical-align: middle;\n",
              "    }\n",
              "\n",
              "    .dataframe tbody tr th {\n",
              "        vertical-align: top;\n",
              "    }\n",
              "\n",
              "    .dataframe thead th {\n",
              "        text-align: right;\n",
              "    }\n",
              "</style>\n",
              "<table border=\"1\" class=\"dataframe\">\n",
              "  <thead>\n",
              "    <tr style=\"text-align: right;\">\n",
              "      <th></th>\n",
              "      <th>price</th>\n",
              "    </tr>\n",
              "  </thead>\n",
              "  <tbody>\n",
              "    <tr>\n",
              "      <th>0</th>\n",
              "      <td>1852.8</td>\n",
              "    </tr>\n",
              "    <tr>\n",
              "      <th>1</th>\n",
              "      <td>2010.4</td>\n",
              "    </tr>\n",
              "    <tr>\n",
              "      <th>2</th>\n",
              "      <td>1974.9</td>\n",
              "    </tr>\n",
              "    <tr>\n",
              "      <th>3</th>\n",
              "      <td>1960.9</td>\n",
              "    </tr>\n",
              "    <tr>\n",
              "      <th>4</th>\n",
              "      <td>2119.4</td>\n",
              "    </tr>\n",
              "    <tr>\n",
              "      <th>...</th>\n",
              "      <td>...</td>\n",
              "    </tr>\n",
              "    <tr>\n",
              "      <th>513</th>\n",
              "      <td>133235.1</td>\n",
              "    </tr>\n",
              "    <tr>\n",
              "      <th>514</th>\n",
              "      <td>135587.9</td>\n",
              "    </tr>\n",
              "    <tr>\n",
              "      <th>515</th>\n",
              "      <td>134864.5</td>\n",
              "    </tr>\n",
              "    <tr>\n",
              "      <th>516</th>\n",
              "      <td>135230.7</td>\n",
              "    </tr>\n",
              "    <tr>\n",
              "      <th>517</th>\n",
              "      <td>139210.2</td>\n",
              "    </tr>\n",
              "  </tbody>\n",
              "</table>\n",
              "<p>518 rows × 1 columns</p>\n",
              "</div>\n",
              "      <button class=\"colab-df-convert\" onclick=\"convertToInteractive('df-9a4427e1-ada6-4295-bb25-5a429a30b8d5')\"\n",
              "              title=\"Convert this dataframe to an interactive table.\"\n",
              "              style=\"display:none;\">\n",
              "        \n",
              "  <svg xmlns=\"http://www.w3.org/2000/svg\" height=\"24px\"viewBox=\"0 0 24 24\"\n",
              "       width=\"24px\">\n",
              "    <path d=\"M0 0h24v24H0V0z\" fill=\"none\"/>\n",
              "    <path d=\"M18.56 5.44l.94 2.06.94-2.06 2.06-.94-2.06-.94-.94-2.06-.94 2.06-2.06.94zm-11 1L8.5 8.5l.94-2.06 2.06-.94-2.06-.94L8.5 2.5l-.94 2.06-2.06.94zm10 10l.94 2.06.94-2.06 2.06-.94-2.06-.94-.94-2.06-.94 2.06-2.06.94z\"/><path d=\"M17.41 7.96l-1.37-1.37c-.4-.4-.92-.59-1.43-.59-.52 0-1.04.2-1.43.59L10.3 9.45l-7.72 7.72c-.78.78-.78 2.05 0 2.83L4 21.41c.39.39.9.59 1.41.59.51 0 1.02-.2 1.41-.59l7.78-7.78 2.81-2.81c.8-.78.8-2.07 0-2.86zM5.41 20L4 18.59l7.72-7.72 1.47 1.35L5.41 20z\"/>\n",
              "  </svg>\n",
              "      </button>\n",
              "      \n",
              "  <style>\n",
              "    .colab-df-container {\n",
              "      display:flex;\n",
              "      flex-wrap:wrap;\n",
              "      gap: 12px;\n",
              "    }\n",
              "\n",
              "    .colab-df-convert {\n",
              "      background-color: #E8F0FE;\n",
              "      border: none;\n",
              "      border-radius: 50%;\n",
              "      cursor: pointer;\n",
              "      display: none;\n",
              "      fill: #1967D2;\n",
              "      height: 32px;\n",
              "      padding: 0 0 0 0;\n",
              "      width: 32px;\n",
              "    }\n",
              "\n",
              "    .colab-df-convert:hover {\n",
              "      background-color: #E2EBFA;\n",
              "      box-shadow: 0px 1px 2px rgba(60, 64, 67, 0.3), 0px 1px 3px 1px rgba(60, 64, 67, 0.15);\n",
              "      fill: #174EA6;\n",
              "    }\n",
              "\n",
              "    [theme=dark] .colab-df-convert {\n",
              "      background-color: #3B4455;\n",
              "      fill: #D2E3FC;\n",
              "    }\n",
              "\n",
              "    [theme=dark] .colab-df-convert:hover {\n",
              "      background-color: #434B5C;\n",
              "      box-shadow: 0px 1px 3px 1px rgba(0, 0, 0, 0.15);\n",
              "      filter: drop-shadow(0px 1px 2px rgba(0, 0, 0, 0.3));\n",
              "      fill: #FFFFFF;\n",
              "    }\n",
              "  </style>\n",
              "\n",
              "      <script>\n",
              "        const buttonEl =\n",
              "          document.querySelector('#df-9a4427e1-ada6-4295-bb25-5a429a30b8d5 button.colab-df-convert');\n",
              "        buttonEl.style.display =\n",
              "          google.colab.kernel.accessAllowed ? 'block' : 'none';\n",
              "\n",
              "        async function convertToInteractive(key) {\n",
              "          const element = document.querySelector('#df-9a4427e1-ada6-4295-bb25-5a429a30b8d5');\n",
              "          const dataTable =\n",
              "            await google.colab.kernel.invokeFunction('convertToInteractive',\n",
              "                                                     [key], {});\n",
              "          if (!dataTable) return;\n",
              "\n",
              "          const docLinkHtml = 'Like what you see? Visit the ' +\n",
              "            '<a target=\"_blank\" href=https://colab.research.google.com/notebooks/data_table.ipynb>data table notebook</a>'\n",
              "            + ' to learn more about interactive tables.';\n",
              "          element.innerHTML = '';\n",
              "          dataTable['output_type'] = 'display_data';\n",
              "          await google.colab.output.renderOutput(dataTable, element);\n",
              "          const docLink = document.createElement('div');\n",
              "          docLink.innerHTML = docLinkHtml;\n",
              "          element.appendChild(docLink);\n",
              "        }\n",
              "      </script>\n",
              "    </div>\n",
              "  </div>\n",
              "  "
            ]
          },
          "metadata": {},
          "execution_count": 38
        }
      ]
    }
  ],
  "metadata": {
    "colab": {
      "provenance": []
    },
    "kernelspec": {
      "display_name": "Python 3",
      "name": "python3"
    },
    "language_info": {
      "name": "python"
    },
    "accelerator": "GPU"
  },
  "nbformat": 4,
  "nbformat_minor": 0
}